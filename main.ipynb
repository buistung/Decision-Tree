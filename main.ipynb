{
 "cells": [
  {
   "cell_type": "markdown",
   "metadata": {},
   "source": [
    "Compute Gini"
   ]
  },
  {
   "cell_type": "code",
   "execution_count": 6,
   "metadata": {},
   "outputs": [
    {
     "name": "stdout",
     "output_type": "stream",
     "text": [
      "Gini Index: 0.26666666666666666\n"
     ]
    }
   ],
   "source": [
    "import numpy as np\n",
    "\n",
    "def gini_index(groups,classes):\n",
    "    total_samples = float(sum([len(group) for group in groups]))\n",
    "    gini = 0.0\n",
    "    for group in groups:\n",
    "        size = float(len(group))\n",
    "        if size == 0:\n",
    "            continue\n",
    "    score = 0.0\n",
    "    for c in classes:\n",
    "        p_i  = [row[-1] for row in group].count(c) / size\n",
    "        score += p_i ** 2\n",
    "    \n",
    "    gini += (1 - score) *( size / total_samples)\n",
    "    \n",
    "    return gini\n",
    "\n",
    "dataset = [\n",
    "    [2.8, 'Yes'],\n",
    "    [3.6, 'Yes'],\n",
    "    [1.2, 'No'],    \n",
    "    [4.5, 'No'],\n",
    "    [5.1, 'Yes']\n",
    "]\n",
    "\n",
    "def split_data(dataset, feature_index, threshold):\n",
    "    left = [row for row in dataset if row[feature_index] < threshold]\n",
    "    right = [row for row in dataset if row[feature_index] >= threshold]\n",
    "    return left, right\n",
    "\n",
    "groups = split_data(dataset, 0, 3.0)\n",
    "classes = ['Yes','No']\n",
    "gini = gini_index(groups,classes)\n",
    "print(f'Gini Index: {gini}')\n"
   ]
  },
  {
   "cell_type": "markdown",
   "metadata": {},
   "source": [
    "Tree Node"
   ]
  },
  {
   "cell_type": "code",
   "execution_count": 11,
   "metadata": {},
   "outputs": [],
   "source": [
    "class TreeNode:\n",
    "    def __init__(self, feature_index = None, threshold = None, left = None, right = None, label = None ):\n",
    "        self.feature_index = feature_index\n",
    "        self.threshold = threshold\n",
    "        self.right = right\n",
    "        self.left = left\n",
    "        self.label = label\n",
    "\n"
   ]
  },
  {
   "cell_type": "markdown",
   "metadata": {},
   "source": [
    "Decision Tree"
   ]
  },
  {
   "cell_type": "code",
   "execution_count": 12,
   "metadata": {},
   "outputs": [],
   "source": [
    "class DecisionTree:\n",
    "    def __init__(self, max_depth=3):\n",
    "        self.max_depth = max_depth\n",
    "        self.root = None\n",
    "    def gini_index(self,groups,classes):\n",
    "        total_samples = float(sum([len(group) for group in groups]))\n",
    "        gini = 0.0\n",
    "        for group in groups:\n",
    "            size = float(len(group))\n",
    "            if size == 0:\n",
    "                continue\n",
    "        score = 0.0\n",
    "        for c in classes:\n",
    "            p_i  = [row[-1] for row in group].count(c) / size\n",
    "            score += p_i ** 2\n",
    "        \n",
    "        gini += (1 - score) *( size / total_samples)\n",
    "        \n",
    "        return gini\n",
    "    \n",
    "    def split_data(self,dataset,feature_index,threshold):\n",
    "        left = [row for row in dataset if row[feature_index] < threshold]\n",
    "        right = [row for row in dataset if row[feature_index] >= threshold]\n",
    "        return left, right\n",
    "\n",
    "    def best_split(self,dataset):\n",
    "        class_value = list(set(row[-1] for row in dataset))\n",
    "        best_index, best_threshold, best_score, best_groups = None, None, float('inf'), None\n",
    "        for index in range(len(dataset[0])-1):\n",
    "            for row in dataset:\n",
    "                groups = self.split_data(dataset, index, row[index])\n",
    "                gini = self.gini_index(groups, class_value)\n",
    "                if gini < best_score:\n",
    "                    best_index, best_threshold, best_score, best_groups = index, row[index], gini, groups\n",
    "                return best_index, best_threshold, best_groups\n",
    "            \n",
    "    def build_tree(self,dataset,depth=0):\n",
    "        class_values = [row[1] for row in dataset]\n",
    "\n",
    "        if len(set(class_values)) == 1 or depth == self.max_depth:\n",
    "            return TreeNode(label=max(set(class_values), key=class_values.count))\n",
    "        \n",
    "        feature_index, threshold, groups = self.best_split(dataset)\n",
    "\n",
    "        if not groups[0] or not groups[1]:\n",
    "            return TreeNode(label=max(set(class_values), key=class_values.count))\n",
    "        \n",
    "        left_node = self.build_tree(groups[0], depth + 1)\n",
    "        right_node = self.build_tree(groups[1], depth + 1)\n",
    "\n",
    "        return TreeNode(feature_index, threshold, left_node, right_node)    \n",
    "    \n",
    "    def fit(self,dataset):\n",
    "        self.root = self.build_tree(dataset)\n",
    "\n",
    "    def  print_tree(self,node=None,depth=0):\n",
    "        if node is None:\n",
    "            node = self.root\n",
    "\n",
    "        if node.label is not None:\n",
    "            print(f'{\"|  \" * depth}[Leaf] Label: {node.label}')\n",
    "        else:\n",
    "            print(f'{\"|  \" * depth}[Node] Feature {node.feature_index} < {node.threshold}')\n",
    "            self.print_tree(node.left, depth + 1)\n",
    "            self.print_tree(node.right, depth + 1)\n"
   ]
  },
  {
   "cell_type": "code",
   "execution_count": 13,
   "metadata": {},
   "outputs": [
    {
     "name": "stdout",
     "output_type": "stream",
     "text": [
      "[Node] Feature 0 < 50\n",
      "|  [Leaf] Label: No\n",
      "|  [Leaf] Label: Yes\n"
     ]
    }
   ],
   "source": [
    "data = [\n",
    "    [50,'Yes'],\n",
    "    [20,'No'],\n",
    "    [30,'No'],\n",
    "    [70,'Yes'],\n",
    "    [40,'No'],\n",
    "    [60,'Yes']\n",
    "]\n",
    "tree = DecisionTree(max_depth=3)\n",
    "tree.fit(data)\n",
    "tree.print_tree()"
   ]
  }
 ],
 "metadata": {
  "kernelspec": {
   "display_name": "base",
   "language": "python",
   "name": "python3"
  },
  "language_info": {
   "codemirror_mode": {
    "name": "ipython",
    "version": 3
   },
   "file_extension": ".py",
   "mimetype": "text/x-python",
   "name": "python",
   "nbconvert_exporter": "python",
   "pygments_lexer": "ipython3",
   "version": "3.12.7"
  }
 },
 "nbformat": 4,
 "nbformat_minor": 2
}
